{
 "cells": [
  {
   "cell_type": "code",
   "execution_count": 1,
   "metadata": {},
   "outputs": [],
   "source": [
    "import pandas as pd\n",
    "import numpy as np\n",
    "from sklearn import metrics\n",
    "import matplotlib.pyplot as plt\n",
    "%matplotlib inline\n",
    "from sklearn.preprocessing import MinMaxScaler\n",
    "from sklearn.ensemble import RandomForestRegressor\n",
    "from sklearn.neighbors import KNeighborsRegressor\n",
    "from sklearn.linear_model import LinearRegression\n",
    "from sklearn import linear_model"
   ]
  },
  {
   "cell_type": "markdown",
   "metadata": {},
   "source": [
    "#### Lendo os datasets"
   ]
  },
  {
   "cell_type": "code",
   "execution_count": 2,
   "metadata": {},
   "outputs": [],
   "source": [
    "data1 = pd.read_csv(\"data_1__.csv\")\n",
    "data2 = pd.read_csv(\"data_2__.csv\")\n",
    "data3 = pd.read_csv(\"data_3__.csv\")"
   ]
  },
  {
   "cell_type": "code",
   "execution_count": 3,
   "metadata": {},
   "outputs": [],
   "source": [
    "data1.drop('index', axis=1, inplace=True)\n",
    "data2.drop('index', axis=1, inplace=True)\n",
    "data3.drop('index', axis=1, inplace=True)"
   ]
  },
  {
   "cell_type": "markdown",
   "metadata": {},
   "source": [
    "## Solução Utilizando os 3 datasets"
   ]
  },
  {
   "cell_type": "code",
   "execution_count": 4,
   "metadata": {},
   "outputs": [],
   "source": [
    "frames = [data1, data2, data3]\n",
    "df = pd.concat(frames)"
   ]
  },
  {
   "cell_type": "markdown",
   "metadata": {},
   "source": [
    "### Transformando os valores de data"
   ]
  },
  {
   "cell_type": "code",
   "execution_count": 5,
   "metadata": {},
   "outputs": [],
   "source": [
    "df['data'] = pd.to_datetime(df['data'])"
   ]
  },
  {
   "cell_type": "markdown",
   "metadata": {},
   "source": [
    "### Calculando o valor mensal"
   ]
  },
  {
   "cell_type": "code",
   "execution_count": 6,
   "metadata": {},
   "outputs": [],
   "source": [
    "vetUnicos = df['data'].dt.strftime('%Y-%m').unique()"
   ]
  },
  {
   "cell_type": "code",
   "execution_count": 7,
   "metadata": {},
   "outputs": [
    {
     "name": "stdout",
     "output_type": "stream",
     "text": [
      "319178.12\n",
      "1106750.99\n",
      "1458219.2699999998\n",
      "1362836.3699999999\n",
      "1576162.1099999999\n",
      "1614344.03\n",
      "953404.6400000001\n",
      "1290025.53\n",
      "1232571.76\n",
      "1191163.0200000003\n",
      "1112314.26\n",
      "1296257.07\n",
      "873094.43\n",
      "1139041.7899999998\n",
      "1237819.8499999996\n",
      "1220584.2000000002\n",
      "1617688.4599999997\n",
      "1128525.46\n",
      "865359.64\n",
      "916982.7899999999\n",
      "1213828.56\n",
      "1047290.33\n",
      "1138430.96\n",
      "1193697.4999999998\n",
      "1217509.5\n",
      "1483112.7099999997\n",
      "1367607.82\n",
      "1.5\n",
      "54228.85999999999\n",
      "79707.74000000002\n",
      "92994.49\n",
      "99751.70000000001\n",
      "121334.25999999998\n",
      "80715.76\n",
      "72224.62999999999\n",
      "73179.45000000001\n",
      "263512.38\n",
      "325193.14\n",
      "333163.06999999995\n",
      "402575.4700000001\n",
      "331405.31\n",
      "294473.47000000003\n",
      "331473.15\n",
      "337373.41\n",
      "438262.95\n",
      "398732.37999999995\n",
      "300369.98000000004\n",
      "307800.63999999996\n",
      "323850.44\n",
      "338480.67\n",
      "332429.23\n",
      "408854.1599999999\n"
     ]
    }
   ],
   "source": [
    "acumulos = []\n",
    "for i in vetUnicos:\n",
    "    acumulos.append(df[df['data'].dt.strftime('%Y-%m') == (i)].sum().valor)\n",
    "    \n",
    "for i in acumulos:\n",
    "    print (i)"
   ]
  },
  {
   "cell_type": "code",
   "execution_count": 8,
   "metadata": {},
   "outputs": [
    {
     "data": {
      "text/html": [
       "<div>\n",
       "<style scoped>\n",
       "    .dataframe tbody tr th:only-of-type {\n",
       "        vertical-align: middle;\n",
       "    }\n",
       "\n",
       "    .dataframe tbody tr th {\n",
       "        vertical-align: top;\n",
       "    }\n",
       "\n",
       "    .dataframe thead th {\n",
       "        text-align: right;\n",
       "    }\n",
       "</style>\n",
       "<table border=\"1\" class=\"dataframe\">\n",
       "  <thead>\n",
       "    <tr style=\"text-align: right;\">\n",
       "      <th></th>\n",
       "      <th>data</th>\n",
       "      <th>total</th>\n",
       "    </tr>\n",
       "  </thead>\n",
       "  <tbody>\n",
       "    <tr>\n",
       "      <th>0</th>\n",
       "      <td>2016-08</td>\n",
       "      <td>319178.12</td>\n",
       "    </tr>\n",
       "    <tr>\n",
       "      <th>1</th>\n",
       "      <td>2016-09</td>\n",
       "      <td>1106750.99</td>\n",
       "    </tr>\n",
       "    <tr>\n",
       "      <th>2</th>\n",
       "      <td>2016-10</td>\n",
       "      <td>1458219.27</td>\n",
       "    </tr>\n",
       "    <tr>\n",
       "      <th>3</th>\n",
       "      <td>2016-11</td>\n",
       "      <td>1362836.37</td>\n",
       "    </tr>\n",
       "    <tr>\n",
       "      <th>4</th>\n",
       "      <td>2016-12</td>\n",
       "      <td>1576162.11</td>\n",
       "    </tr>\n",
       "    <tr>\n",
       "      <th>5</th>\n",
       "      <td>2017-01</td>\n",
       "      <td>1614344.03</td>\n",
       "    </tr>\n",
       "    <tr>\n",
       "      <th>6</th>\n",
       "      <td>2017-02</td>\n",
       "      <td>953404.64</td>\n",
       "    </tr>\n",
       "    <tr>\n",
       "      <th>7</th>\n",
       "      <td>2017-03</td>\n",
       "      <td>1290025.53</td>\n",
       "    </tr>\n",
       "    <tr>\n",
       "      <th>8</th>\n",
       "      <td>2017-04</td>\n",
       "      <td>1232571.76</td>\n",
       "    </tr>\n",
       "    <tr>\n",
       "      <th>9</th>\n",
       "      <td>2017-05</td>\n",
       "      <td>1191163.02</td>\n",
       "    </tr>\n",
       "    <tr>\n",
       "      <th>10</th>\n",
       "      <td>2017-06</td>\n",
       "      <td>1112314.26</td>\n",
       "    </tr>\n",
       "    <tr>\n",
       "      <th>11</th>\n",
       "      <td>2017-07</td>\n",
       "      <td>1296257.07</td>\n",
       "    </tr>\n",
       "    <tr>\n",
       "      <th>12</th>\n",
       "      <td>2017-08</td>\n",
       "      <td>873094.43</td>\n",
       "    </tr>\n",
       "    <tr>\n",
       "      <th>13</th>\n",
       "      <td>2017-09</td>\n",
       "      <td>1139041.79</td>\n",
       "    </tr>\n",
       "    <tr>\n",
       "      <th>14</th>\n",
       "      <td>2017-10</td>\n",
       "      <td>1237819.85</td>\n",
       "    </tr>\n",
       "    <tr>\n",
       "      <th>15</th>\n",
       "      <td>2017-11</td>\n",
       "      <td>1220584.20</td>\n",
       "    </tr>\n",
       "    <tr>\n",
       "      <th>16</th>\n",
       "      <td>2017-12</td>\n",
       "      <td>1617688.46</td>\n",
       "    </tr>\n",
       "    <tr>\n",
       "      <th>17</th>\n",
       "      <td>2018-01</td>\n",
       "      <td>1128525.46</td>\n",
       "    </tr>\n",
       "    <tr>\n",
       "      <th>18</th>\n",
       "      <td>2018-02</td>\n",
       "      <td>865359.64</td>\n",
       "    </tr>\n",
       "    <tr>\n",
       "      <th>19</th>\n",
       "      <td>2018-03</td>\n",
       "      <td>916982.79</td>\n",
       "    </tr>\n",
       "    <tr>\n",
       "      <th>20</th>\n",
       "      <td>2018-04</td>\n",
       "      <td>1213828.56</td>\n",
       "    </tr>\n",
       "    <tr>\n",
       "      <th>21</th>\n",
       "      <td>2018-05</td>\n",
       "      <td>1047290.33</td>\n",
       "    </tr>\n",
       "    <tr>\n",
       "      <th>22</th>\n",
       "      <td>2018-06</td>\n",
       "      <td>1138430.96</td>\n",
       "    </tr>\n",
       "    <tr>\n",
       "      <th>23</th>\n",
       "      <td>2018-07</td>\n",
       "      <td>1193697.50</td>\n",
       "    </tr>\n",
       "    <tr>\n",
       "      <th>24</th>\n",
       "      <td>2018-08</td>\n",
       "      <td>1217509.50</td>\n",
       "    </tr>\n",
       "    <tr>\n",
       "      <th>25</th>\n",
       "      <td>2018-09</td>\n",
       "      <td>1483112.71</td>\n",
       "    </tr>\n",
       "    <tr>\n",
       "      <th>26</th>\n",
       "      <td>2018-10</td>\n",
       "      <td>1367607.82</td>\n",
       "    </tr>\n",
       "    <tr>\n",
       "      <th>27</th>\n",
       "      <td>2014-07</td>\n",
       "      <td>1.50</td>\n",
       "    </tr>\n",
       "    <tr>\n",
       "      <th>28</th>\n",
       "      <td>2014-08</td>\n",
       "      <td>54228.86</td>\n",
       "    </tr>\n",
       "    <tr>\n",
       "      <th>29</th>\n",
       "      <td>2014-09</td>\n",
       "      <td>79707.74</td>\n",
       "    </tr>\n",
       "    <tr>\n",
       "      <th>30</th>\n",
       "      <td>2014-10</td>\n",
       "      <td>92994.49</td>\n",
       "    </tr>\n",
       "    <tr>\n",
       "      <th>31</th>\n",
       "      <td>2014-11</td>\n",
       "      <td>99751.70</td>\n",
       "    </tr>\n",
       "    <tr>\n",
       "      <th>32</th>\n",
       "      <td>2014-12</td>\n",
       "      <td>121334.26</td>\n",
       "    </tr>\n",
       "    <tr>\n",
       "      <th>33</th>\n",
       "      <td>2015-01</td>\n",
       "      <td>80715.76</td>\n",
       "    </tr>\n",
       "    <tr>\n",
       "      <th>34</th>\n",
       "      <td>2015-02</td>\n",
       "      <td>72224.63</td>\n",
       "    </tr>\n",
       "    <tr>\n",
       "      <th>35</th>\n",
       "      <td>2015-03</td>\n",
       "      <td>73179.45</td>\n",
       "    </tr>\n",
       "    <tr>\n",
       "      <th>36</th>\n",
       "      <td>2015-04</td>\n",
       "      <td>263512.38</td>\n",
       "    </tr>\n",
       "    <tr>\n",
       "      <th>37</th>\n",
       "      <td>2015-05</td>\n",
       "      <td>325193.14</td>\n",
       "    </tr>\n",
       "    <tr>\n",
       "      <th>38</th>\n",
       "      <td>2015-06</td>\n",
       "      <td>333163.07</td>\n",
       "    </tr>\n",
       "    <tr>\n",
       "      <th>39</th>\n",
       "      <td>2015-07</td>\n",
       "      <td>402575.47</td>\n",
       "    </tr>\n",
       "    <tr>\n",
       "      <th>40</th>\n",
       "      <td>2015-08</td>\n",
       "      <td>331405.31</td>\n",
       "    </tr>\n",
       "    <tr>\n",
       "      <th>41</th>\n",
       "      <td>2015-09</td>\n",
       "      <td>294473.47</td>\n",
       "    </tr>\n",
       "    <tr>\n",
       "      <th>42</th>\n",
       "      <td>2015-10</td>\n",
       "      <td>331473.15</td>\n",
       "    </tr>\n",
       "    <tr>\n",
       "      <th>43</th>\n",
       "      <td>2015-11</td>\n",
       "      <td>337373.41</td>\n",
       "    </tr>\n",
       "    <tr>\n",
       "      <th>44</th>\n",
       "      <td>2015-12</td>\n",
       "      <td>438262.95</td>\n",
       "    </tr>\n",
       "    <tr>\n",
       "      <th>45</th>\n",
       "      <td>2016-01</td>\n",
       "      <td>398732.38</td>\n",
       "    </tr>\n",
       "    <tr>\n",
       "      <th>46</th>\n",
       "      <td>2016-02</td>\n",
       "      <td>300369.98</td>\n",
       "    </tr>\n",
       "    <tr>\n",
       "      <th>47</th>\n",
       "      <td>2016-03</td>\n",
       "      <td>307800.64</td>\n",
       "    </tr>\n",
       "    <tr>\n",
       "      <th>48</th>\n",
       "      <td>2016-04</td>\n",
       "      <td>323850.44</td>\n",
       "    </tr>\n",
       "    <tr>\n",
       "      <th>49</th>\n",
       "      <td>2016-05</td>\n",
       "      <td>338480.67</td>\n",
       "    </tr>\n",
       "    <tr>\n",
       "      <th>50</th>\n",
       "      <td>2016-06</td>\n",
       "      <td>332429.23</td>\n",
       "    </tr>\n",
       "    <tr>\n",
       "      <th>51</th>\n",
       "      <td>2016-07</td>\n",
       "      <td>408854.16</td>\n",
       "    </tr>\n",
       "  </tbody>\n",
       "</table>\n",
       "</div>"
      ],
      "text/plain": [
       "       data       total\n",
       "0   2016-08   319178.12\n",
       "1   2016-09  1106750.99\n",
       "2   2016-10  1458219.27\n",
       "3   2016-11  1362836.37\n",
       "4   2016-12  1576162.11\n",
       "5   2017-01  1614344.03\n",
       "6   2017-02   953404.64\n",
       "7   2017-03  1290025.53\n",
       "8   2017-04  1232571.76\n",
       "9   2017-05  1191163.02\n",
       "10  2017-06  1112314.26\n",
       "11  2017-07  1296257.07\n",
       "12  2017-08   873094.43\n",
       "13  2017-09  1139041.79\n",
       "14  2017-10  1237819.85\n",
       "15  2017-11  1220584.20\n",
       "16  2017-12  1617688.46\n",
       "17  2018-01  1128525.46\n",
       "18  2018-02   865359.64\n",
       "19  2018-03   916982.79\n",
       "20  2018-04  1213828.56\n",
       "21  2018-05  1047290.33\n",
       "22  2018-06  1138430.96\n",
       "23  2018-07  1193697.50\n",
       "24  2018-08  1217509.50\n",
       "25  2018-09  1483112.71\n",
       "26  2018-10  1367607.82\n",
       "27  2014-07        1.50\n",
       "28  2014-08    54228.86\n",
       "29  2014-09    79707.74\n",
       "30  2014-10    92994.49\n",
       "31  2014-11    99751.70\n",
       "32  2014-12   121334.26\n",
       "33  2015-01    80715.76\n",
       "34  2015-02    72224.63\n",
       "35  2015-03    73179.45\n",
       "36  2015-04   263512.38\n",
       "37  2015-05   325193.14\n",
       "38  2015-06   333163.07\n",
       "39  2015-07   402575.47\n",
       "40  2015-08   331405.31\n",
       "41  2015-09   294473.47\n",
       "42  2015-10   331473.15\n",
       "43  2015-11   337373.41\n",
       "44  2015-12   438262.95\n",
       "45  2016-01   398732.38\n",
       "46  2016-02   300369.98\n",
       "47  2016-03   307800.64\n",
       "48  2016-04   323850.44\n",
       "49  2016-05   338480.67\n",
       "50  2016-06   332429.23\n",
       "51  2016-07   408854.16"
      ]
     },
     "execution_count": 8,
     "metadata": {},
     "output_type": "execute_result"
    }
   ],
   "source": [
    "dicionario = {\"data\":vetUnicos, \"total\":acumulos}\n",
    "dfMeses = pd.DataFrame(data=dicionario)\n",
    "dfMeses"
   ]
  },
  {
   "cell_type": "markdown",
   "metadata": {},
   "source": [
    "- Indice 26 é o test\n",
    "- DataFrame tem tamanho 52\n"
   ]
  },
  {
   "cell_type": "code",
   "execution_count": 9,
   "metadata": {},
   "outputs": [],
   "source": [
    "dfMeses['data'] = pd.to_datetime(dfMeses['data'])"
   ]
  },
  {
   "cell_type": "code",
   "execution_count": 10,
   "metadata": {},
   "outputs": [],
   "source": [
    "vetorAnos = dfMeses['data'].dt.strftime('%Y')\n",
    "vetorMeses = dfMeses['data'].dt.strftime('%m')\n",
    "\n",
    "dicionarioFinal = {\"ano\":vetorAnos, \"mes\":vetorMeses, \"totalPorMes\":dfMeses['total']}\n",
    "dfFinal = pd.DataFrame(data=dicionarioFinal, index=range(0,52))"
   ]
  },
  {
   "cell_type": "code",
   "execution_count": 11,
   "metadata": {},
   "outputs": [
    {
     "data": {
      "text/html": [
       "<div>\n",
       "<style scoped>\n",
       "    .dataframe tbody tr th:only-of-type {\n",
       "        vertical-align: middle;\n",
       "    }\n",
       "\n",
       "    .dataframe tbody tr th {\n",
       "        vertical-align: top;\n",
       "    }\n",
       "\n",
       "    .dataframe thead th {\n",
       "        text-align: right;\n",
       "    }\n",
       "</style>\n",
       "<table border=\"1\" class=\"dataframe\">\n",
       "  <thead>\n",
       "    <tr style=\"text-align: right;\">\n",
       "      <th></th>\n",
       "      <th>ano</th>\n",
       "      <th>mes</th>\n",
       "      <th>totalPorMes</th>\n",
       "    </tr>\n",
       "  </thead>\n",
       "  <tbody>\n",
       "    <tr>\n",
       "      <th>0</th>\n",
       "      <td>2016</td>\n",
       "      <td>08</td>\n",
       "      <td>319178.12</td>\n",
       "    </tr>\n",
       "    <tr>\n",
       "      <th>1</th>\n",
       "      <td>2016</td>\n",
       "      <td>09</td>\n",
       "      <td>1106750.99</td>\n",
       "    </tr>\n",
       "    <tr>\n",
       "      <th>2</th>\n",
       "      <td>2016</td>\n",
       "      <td>10</td>\n",
       "      <td>1458219.27</td>\n",
       "    </tr>\n",
       "    <tr>\n",
       "      <th>3</th>\n",
       "      <td>2016</td>\n",
       "      <td>11</td>\n",
       "      <td>1362836.37</td>\n",
       "    </tr>\n",
       "    <tr>\n",
       "      <th>4</th>\n",
       "      <td>2016</td>\n",
       "      <td>12</td>\n",
       "      <td>1576162.11</td>\n",
       "    </tr>\n",
       "    <tr>\n",
       "      <th>5</th>\n",
       "      <td>2017</td>\n",
       "      <td>01</td>\n",
       "      <td>1614344.03</td>\n",
       "    </tr>\n",
       "    <tr>\n",
       "      <th>6</th>\n",
       "      <td>2017</td>\n",
       "      <td>02</td>\n",
       "      <td>953404.64</td>\n",
       "    </tr>\n",
       "    <tr>\n",
       "      <th>7</th>\n",
       "      <td>2017</td>\n",
       "      <td>03</td>\n",
       "      <td>1290025.53</td>\n",
       "    </tr>\n",
       "    <tr>\n",
       "      <th>8</th>\n",
       "      <td>2017</td>\n",
       "      <td>04</td>\n",
       "      <td>1232571.76</td>\n",
       "    </tr>\n",
       "    <tr>\n",
       "      <th>9</th>\n",
       "      <td>2017</td>\n",
       "      <td>05</td>\n",
       "      <td>1191163.02</td>\n",
       "    </tr>\n",
       "    <tr>\n",
       "      <th>10</th>\n",
       "      <td>2017</td>\n",
       "      <td>06</td>\n",
       "      <td>1112314.26</td>\n",
       "    </tr>\n",
       "    <tr>\n",
       "      <th>11</th>\n",
       "      <td>2017</td>\n",
       "      <td>07</td>\n",
       "      <td>1296257.07</td>\n",
       "    </tr>\n",
       "    <tr>\n",
       "      <th>12</th>\n",
       "      <td>2017</td>\n",
       "      <td>08</td>\n",
       "      <td>873094.43</td>\n",
       "    </tr>\n",
       "    <tr>\n",
       "      <th>13</th>\n",
       "      <td>2017</td>\n",
       "      <td>09</td>\n",
       "      <td>1139041.79</td>\n",
       "    </tr>\n",
       "    <tr>\n",
       "      <th>14</th>\n",
       "      <td>2017</td>\n",
       "      <td>10</td>\n",
       "      <td>1237819.85</td>\n",
       "    </tr>\n",
       "    <tr>\n",
       "      <th>15</th>\n",
       "      <td>2017</td>\n",
       "      <td>11</td>\n",
       "      <td>1220584.20</td>\n",
       "    </tr>\n",
       "    <tr>\n",
       "      <th>16</th>\n",
       "      <td>2017</td>\n",
       "      <td>12</td>\n",
       "      <td>1617688.46</td>\n",
       "    </tr>\n",
       "    <tr>\n",
       "      <th>17</th>\n",
       "      <td>2018</td>\n",
       "      <td>01</td>\n",
       "      <td>1128525.46</td>\n",
       "    </tr>\n",
       "    <tr>\n",
       "      <th>18</th>\n",
       "      <td>2018</td>\n",
       "      <td>02</td>\n",
       "      <td>865359.64</td>\n",
       "    </tr>\n",
       "    <tr>\n",
       "      <th>19</th>\n",
       "      <td>2018</td>\n",
       "      <td>03</td>\n",
       "      <td>916982.79</td>\n",
       "    </tr>\n",
       "    <tr>\n",
       "      <th>20</th>\n",
       "      <td>2018</td>\n",
       "      <td>04</td>\n",
       "      <td>1213828.56</td>\n",
       "    </tr>\n",
       "    <tr>\n",
       "      <th>21</th>\n",
       "      <td>2018</td>\n",
       "      <td>05</td>\n",
       "      <td>1047290.33</td>\n",
       "    </tr>\n",
       "    <tr>\n",
       "      <th>22</th>\n",
       "      <td>2018</td>\n",
       "      <td>06</td>\n",
       "      <td>1138430.96</td>\n",
       "    </tr>\n",
       "    <tr>\n",
       "      <th>23</th>\n",
       "      <td>2018</td>\n",
       "      <td>07</td>\n",
       "      <td>1193697.50</td>\n",
       "    </tr>\n",
       "    <tr>\n",
       "      <th>24</th>\n",
       "      <td>2018</td>\n",
       "      <td>08</td>\n",
       "      <td>1217509.50</td>\n",
       "    </tr>\n",
       "    <tr>\n",
       "      <th>25</th>\n",
       "      <td>2018</td>\n",
       "      <td>09</td>\n",
       "      <td>1483112.71</td>\n",
       "    </tr>\n",
       "    <tr>\n",
       "      <th>26</th>\n",
       "      <td>2018</td>\n",
       "      <td>10</td>\n",
       "      <td>1367607.82</td>\n",
       "    </tr>\n",
       "    <tr>\n",
       "      <th>27</th>\n",
       "      <td>2014</td>\n",
       "      <td>07</td>\n",
       "      <td>1.50</td>\n",
       "    </tr>\n",
       "    <tr>\n",
       "      <th>28</th>\n",
       "      <td>2014</td>\n",
       "      <td>08</td>\n",
       "      <td>54228.86</td>\n",
       "    </tr>\n",
       "    <tr>\n",
       "      <th>29</th>\n",
       "      <td>2014</td>\n",
       "      <td>09</td>\n",
       "      <td>79707.74</td>\n",
       "    </tr>\n",
       "    <tr>\n",
       "      <th>30</th>\n",
       "      <td>2014</td>\n",
       "      <td>10</td>\n",
       "      <td>92994.49</td>\n",
       "    </tr>\n",
       "    <tr>\n",
       "      <th>31</th>\n",
       "      <td>2014</td>\n",
       "      <td>11</td>\n",
       "      <td>99751.70</td>\n",
       "    </tr>\n",
       "    <tr>\n",
       "      <th>32</th>\n",
       "      <td>2014</td>\n",
       "      <td>12</td>\n",
       "      <td>121334.26</td>\n",
       "    </tr>\n",
       "    <tr>\n",
       "      <th>33</th>\n",
       "      <td>2015</td>\n",
       "      <td>01</td>\n",
       "      <td>80715.76</td>\n",
       "    </tr>\n",
       "    <tr>\n",
       "      <th>34</th>\n",
       "      <td>2015</td>\n",
       "      <td>02</td>\n",
       "      <td>72224.63</td>\n",
       "    </tr>\n",
       "    <tr>\n",
       "      <th>35</th>\n",
       "      <td>2015</td>\n",
       "      <td>03</td>\n",
       "      <td>73179.45</td>\n",
       "    </tr>\n",
       "    <tr>\n",
       "      <th>36</th>\n",
       "      <td>2015</td>\n",
       "      <td>04</td>\n",
       "      <td>263512.38</td>\n",
       "    </tr>\n",
       "    <tr>\n",
       "      <th>37</th>\n",
       "      <td>2015</td>\n",
       "      <td>05</td>\n",
       "      <td>325193.14</td>\n",
       "    </tr>\n",
       "    <tr>\n",
       "      <th>38</th>\n",
       "      <td>2015</td>\n",
       "      <td>06</td>\n",
       "      <td>333163.07</td>\n",
       "    </tr>\n",
       "    <tr>\n",
       "      <th>39</th>\n",
       "      <td>2015</td>\n",
       "      <td>07</td>\n",
       "      <td>402575.47</td>\n",
       "    </tr>\n",
       "    <tr>\n",
       "      <th>40</th>\n",
       "      <td>2015</td>\n",
       "      <td>08</td>\n",
       "      <td>331405.31</td>\n",
       "    </tr>\n",
       "    <tr>\n",
       "      <th>41</th>\n",
       "      <td>2015</td>\n",
       "      <td>09</td>\n",
       "      <td>294473.47</td>\n",
       "    </tr>\n",
       "    <tr>\n",
       "      <th>42</th>\n",
       "      <td>2015</td>\n",
       "      <td>10</td>\n",
       "      <td>331473.15</td>\n",
       "    </tr>\n",
       "    <tr>\n",
       "      <th>43</th>\n",
       "      <td>2015</td>\n",
       "      <td>11</td>\n",
       "      <td>337373.41</td>\n",
       "    </tr>\n",
       "    <tr>\n",
       "      <th>44</th>\n",
       "      <td>2015</td>\n",
       "      <td>12</td>\n",
       "      <td>438262.95</td>\n",
       "    </tr>\n",
       "    <tr>\n",
       "      <th>45</th>\n",
       "      <td>2016</td>\n",
       "      <td>01</td>\n",
       "      <td>398732.38</td>\n",
       "    </tr>\n",
       "    <tr>\n",
       "      <th>46</th>\n",
       "      <td>2016</td>\n",
       "      <td>02</td>\n",
       "      <td>300369.98</td>\n",
       "    </tr>\n",
       "    <tr>\n",
       "      <th>47</th>\n",
       "      <td>2016</td>\n",
       "      <td>03</td>\n",
       "      <td>307800.64</td>\n",
       "    </tr>\n",
       "    <tr>\n",
       "      <th>48</th>\n",
       "      <td>2016</td>\n",
       "      <td>04</td>\n",
       "      <td>323850.44</td>\n",
       "    </tr>\n",
       "    <tr>\n",
       "      <th>49</th>\n",
       "      <td>2016</td>\n",
       "      <td>05</td>\n",
       "      <td>338480.67</td>\n",
       "    </tr>\n",
       "    <tr>\n",
       "      <th>50</th>\n",
       "      <td>2016</td>\n",
       "      <td>06</td>\n",
       "      <td>332429.23</td>\n",
       "    </tr>\n",
       "    <tr>\n",
       "      <th>51</th>\n",
       "      <td>2016</td>\n",
       "      <td>07</td>\n",
       "      <td>408854.16</td>\n",
       "    </tr>\n",
       "  </tbody>\n",
       "</table>\n",
       "</div>"
      ],
      "text/plain": [
       "     ano mes  totalPorMes\n",
       "0   2016  08    319178.12\n",
       "1   2016  09   1106750.99\n",
       "2   2016  10   1458219.27\n",
       "3   2016  11   1362836.37\n",
       "4   2016  12   1576162.11\n",
       "5   2017  01   1614344.03\n",
       "6   2017  02    953404.64\n",
       "7   2017  03   1290025.53\n",
       "8   2017  04   1232571.76\n",
       "9   2017  05   1191163.02\n",
       "10  2017  06   1112314.26\n",
       "11  2017  07   1296257.07\n",
       "12  2017  08    873094.43\n",
       "13  2017  09   1139041.79\n",
       "14  2017  10   1237819.85\n",
       "15  2017  11   1220584.20\n",
       "16  2017  12   1617688.46\n",
       "17  2018  01   1128525.46\n",
       "18  2018  02    865359.64\n",
       "19  2018  03    916982.79\n",
       "20  2018  04   1213828.56\n",
       "21  2018  05   1047290.33\n",
       "22  2018  06   1138430.96\n",
       "23  2018  07   1193697.50\n",
       "24  2018  08   1217509.50\n",
       "25  2018  09   1483112.71\n",
       "26  2018  10   1367607.82\n",
       "27  2014  07         1.50\n",
       "28  2014  08     54228.86\n",
       "29  2014  09     79707.74\n",
       "30  2014  10     92994.49\n",
       "31  2014  11     99751.70\n",
       "32  2014  12    121334.26\n",
       "33  2015  01     80715.76\n",
       "34  2015  02     72224.63\n",
       "35  2015  03     73179.45\n",
       "36  2015  04    263512.38\n",
       "37  2015  05    325193.14\n",
       "38  2015  06    333163.07\n",
       "39  2015  07    402575.47\n",
       "40  2015  08    331405.31\n",
       "41  2015  09    294473.47\n",
       "42  2015  10    331473.15\n",
       "43  2015  11    337373.41\n",
       "44  2015  12    438262.95\n",
       "45  2016  01    398732.38\n",
       "46  2016  02    300369.98\n",
       "47  2016  03    307800.64\n",
       "48  2016  04    323850.44\n",
       "49  2016  05    338480.67\n",
       "50  2016  06    332429.23\n",
       "51  2016  07    408854.16"
      ]
     },
     "execution_count": 11,
     "metadata": {},
     "output_type": "execute_result"
    }
   ],
   "source": [
    "dfFinal"
   ]
  },
  {
   "cell_type": "markdown",
   "metadata": {},
   "source": [
    "### Normalizando os dados"
   ]
  },
  {
   "cell_type": "code",
   "execution_count": 12,
   "metadata": {},
   "outputs": [
    {
     "data": {
      "image/png": "[encoded data removed]",
      "text/plain": [
       "<Figure size 432x288 with 1 Axes>"
      ]
     },
     "metadata": {
      "needs_background": "light"
     },
     "output_type": "display_data"
    }
   ],
   "source": [
    "scaler = MinMaxScaler() \n",
    "scaled_values = scaler.fit_transform(dfFinal) \n",
    "dfFinal['totalPorMes'] = scaled_values\n",
    "dfFinal['totalPorMes'].plot();"
   ]
  },
  {
   "cell_type": "markdown",
   "metadata": {},
   "source": [
    "### Separando treino e teste"
   ]
  },
  {
   "cell_type": "code",
   "execution_count": 13,
   "metadata": {},
   "outputs": [],
   "source": [
    "teste = dfFinal[dfFinal.index == 26]\n",
    "X_test = teste.drop(\"totalPorMes\", axis=1)\n",
    "y_test = teste[\"totalPorMes\"]\n",
    "\n",
    "dfFinal.drop([26], axis=0, inplace=True)\n",
    "\n",
    "X_train = dfFinal.drop(\"totalPorMes\", axis=1)\n",
    "y_train = dfFinal[\"totalPorMes\"]"
   ]
  },
  {
   "cell_type": "code",
   "execution_count": 14,
   "metadata": {},
   "outputs": [],
   "source": [
    "Vetmae = []\n",
    "Vetmse = []\n",
    "Vetrmse = []\n",
    "modelo = []"
   ]
  },
  {
   "cell_type": "markdown",
   "metadata": {},
   "source": [
    "## RadomForest"
   ]
  },
  {
   "cell_type": "code",
   "execution_count": 15,
   "metadata": {},
   "outputs": [
    {
     "data": {
      "image/png": "[encoded data removed]",
      "text/plain": [
       "<Figure size 432x288 with 1 Axes>"
      ]
     },
     "metadata": {
      "needs_background": "light"
     },
     "output_type": "display_data"
    }
   ],
   "source": [
    "neighbors = np.arange(1, 100)\n",
    "mae = np.empty(len(neighbors))\n",
    "mse = np.empty(len(neighbors))\n",
    "rmse = np.empty(len(neighbors))\n",
    "\n",
    "for i, k in enumerate(neighbors):\n",
    "    rf = RandomForestRegressor(random_state=5, n_estimators=k)\n",
    "    rf.fit(X_train, y_train)\n",
    "    y_pred = rf.predict(X_test)\n",
    "    mae[i] = metrics.mean_absolute_error(y_test, y_pred)\n",
    "    mse[i] = metrics.mean_squared_error(y_test, y_pred)\n",
    "    rmse[i] = metrics.mean_squared_error(y_test, y_pred)\n",
    "\n",
    "# gerando o grafico\n",
    "plt.title('Modelo Random Forest')\n",
    "plt.plot(neighbors, mae, label = 'MAE')\n",
    "plt.plot(neighbors, mse, label = 'MSE')\n",
    "plt.plot(neighbors, rmse, label = 'RMSE')\n",
    "plt.legend()\n",
    "plt.xlabel('Número de arvores')\n",
    "plt.ylabel('metricas')\n",
    "plt.show()"
   ]
  },
  {
   "cell_type": "code",
   "execution_count": 16,
   "metadata": {},
   "outputs": [
    {
     "name": "stdout",
     "output_type": "stream",
     "text": [
      "MAE: 0.0\n",
      "MSE: 0.0\n",
      "RMSE: 0.0\n"
     ]
    }
   ],
   "source": [
    "rf = RandomForestRegressor(random_state=5, n_estimators=1)\n",
    "rf.fit(X_train, y_train)\n",
    "y_pred = rf.predict(X_test)\n",
    "\n",
    "mae = metrics.mean_absolute_error(y_test, y_pred)\n",
    "mse = metrics.mean_squared_error(y_test, y_pred)\n",
    "rmse = np.sqrt(metrics.mean_squared_error(y_test, y_pred))\n",
    "print('MAE:', mae)  \n",
    "print('MSE:', mse)  \n",
    "print('RMSE:', rmse)\n",
    "\n",
    "modelo.append(\"RandomForest\")\n",
    "Vetmae.append(mae)\n",
    "Vetmse.append(mse)\n",
    "Vetrmse.append(rmse)"
   ]
  },
  {
   "cell_type": "code",
   "execution_count": 17,
   "metadata": {},
   "outputs": [
    {
     "data": {
      "text/plain": [
       "26    1.0\n",
       "Name: totalPorMes, dtype: float64"
      ]
     },
     "execution_count": 17,
     "metadata": {},
     "output_type": "execute_result"
    }
   ],
   "source": [
    "y_test"
   ]
  },
  {
   "cell_type": "code",
   "execution_count": 18,
   "metadata": {},
   "outputs": [
    {
     "data": {
      "text/plain": [
       "array([1.])"
      ]
     },
     "execution_count": 18,
     "metadata": {},
     "output_type": "execute_result"
    }
   ],
   "source": [
    "y_pred"
   ]
  },
  {
   "cell_type": "markdown",
   "metadata": {},
   "source": [
    "## KNN"
   ]
  },
  {
   "cell_type": "code",
   "execution_count": 19,
   "metadata": {},
   "outputs": [
    {
     "data": {
      "image/png": "[encoded data removed]",
      "text/plain": [
       "<Figure size 432x288 with 1 Axes>"
      ]
     },
     "metadata": {
      "needs_background": "light"
     },
     "output_type": "display_data"
    }
   ],
   "source": [
    "neighbors = np.arange(1, 52)\n",
    "mae = np.empty(len(neighbors))\n",
    "mse = np.empty(len(neighbors))\n",
    "rmse = np.empty(len(neighbors))\n",
    "\n",
    "for i, k in enumerate(neighbors):\n",
    "    kn = KNeighborsRegressor(n_neighbors=k)\n",
    "    kn.fit(X_train, y_train)\n",
    "    y_pred = kn.predict(X_test)\n",
    "    mae[i] = metrics.mean_absolute_error(y_test, y_pred)\n",
    "    mse[i] = metrics.mean_squared_error(y_test, y_pred)\n",
    "    rmse[i] = metrics.mean_squared_error(y_test, y_pred)\n",
    "\n",
    "# gerando o grafico\n",
    "plt.title('Modelo KNN')\n",
    "plt.plot(neighbors, mae, label = 'MAE')\n",
    "plt.plot(neighbors, mse, label = 'MSE')\n",
    "plt.plot(neighbors, rmse, label = 'RMSE')\n",
    "plt.legend()\n",
    "plt.xlabel('Número de vizinhos')\n",
    "plt.ylabel('metricas')\n",
    "plt.show()"
   ]
  },
  {
   "cell_type": "code",
   "execution_count": 20,
   "metadata": {},
   "outputs": [
    {
     "data": {
      "image/png": "[encoded data removed]",
      "text/plain": [
       "<Figure size 432x288 with 1 Axes>"
      ]
     },
     "metadata": {
      "needs_background": "light"
     },
     "output_type": "display_data"
    }
   ],
   "source": [
    "neighbors = np.arange(1, 10)\n",
    "mae = np.empty(len(neighbors))\n",
    "mse = np.empty(len(neighbors))\n",
    "rmse = np.empty(len(neighbors))\n",
    "\n",
    "for i, k in enumerate(neighbors):\n",
    "    kn = KNeighborsRegressor(n_neighbors=k)\n",
    "    kn.fit(X_train, y_train)\n",
    "    y_pred = kn.predict(X_test)\n",
    "    mae[i] = metrics.mean_absolute_error(y_test, y_pred)\n",
    "    mse[i] = metrics.mean_squared_error(y_test, y_pred)\n",
    "    rmse[i] = metrics.mean_squared_error(y_test, y_pred)\n",
    "\n",
    "# gerando o grafico\n",
    "plt.title('Modelo KNN')\n",
    "plt.plot(neighbors, mae, label = 'MAE')\n",
    "plt.plot(neighbors, mse, label = 'MSE')\n",
    "plt.plot(neighbors, rmse, label = 'RMSE')\n",
    "plt.legend()\n",
    "plt.xlabel('Número de vizinhos')\n",
    "plt.ylabel('metricas')\n",
    "plt.show()"
   ]
  },
  {
   "cell_type": "code",
   "execution_count": 21,
   "metadata": {},
   "outputs": [
    {
     "name": "stdout",
     "output_type": "stream",
     "text": [
      "MAE: 0.125\n",
      "MSE: 0.015625\n",
      "RMSE: 0.125\n"
     ]
    }
   ],
   "source": [
    "kn = KNeighborsRegressor(n_neighbors=2)\n",
    "kn.fit(X_train, y_train)\n",
    "y_pred = kn.predict(X_test)\n",
    "\n",
    "mae = metrics.mean_absolute_error(y_test, y_pred)\n",
    "mse = metrics.mean_squared_error(y_test, y_pred)\n",
    "rmse = np.sqrt(metrics.mean_squared_error(y_test, y_pred))\n",
    "print('MAE:', mae)  \n",
    "print('MSE:', mse)  \n",
    "print('RMSE:', rmse)\n",
    "\n",
    "modelo.append(\"KNN\")\n",
    "Vetmae.append(mae)\n",
    "Vetmse.append(mse)\n",
    "Vetrmse.append(rmse)"
   ]
  },
  {
   "cell_type": "markdown",
   "metadata": {},
   "source": [
    "### BayesianRidge"
   ]
  },
  {
   "cell_type": "code",
   "execution_count": 22,
   "metadata": {},
   "outputs": [
    {
     "name": "stdout",
     "output_type": "stream",
     "text": [
      "MAE: 9.648658760852413e-09\n",
      "MSE: 9.309661588337403e-17\n",
      "RMSE: 9.648658760852413e-09\n"
     ]
    }
   ],
   "source": [
    "reg = linear_model.BayesianRidge()\n",
    "reg.fit(X_train, y_train)\n",
    "y_pred = reg.predict(X_test)\n",
    "\n",
    "mae = metrics.mean_absolute_error(y_test, y_pred)\n",
    "mse = metrics.mean_squared_error(y_test, y_pred)\n",
    "rmse = np.sqrt(metrics.mean_squared_error(y_test, y_pred))\n",
    "print('MAE:', mae)  \n",
    "print('MSE:', mse)  \n",
    "print('RMSE:', rmse)\n",
    "\n",
    "modelo.append(\"Bayesian\")\n",
    "Vetmae.append(mae)\n",
    "Vetmse.append(mse)\n",
    "Vetrmse.append(rmse)"
   ]
  },
  {
   "cell_type": "markdown",
   "metadata": {},
   "source": [
    "### LinearRegression"
   ]
  },
  {
   "cell_type": "code",
   "execution_count": 23,
   "metadata": {},
   "outputs": [
    {
     "name": "stdout",
     "output_type": "stream",
     "text": [
      "MAE: 0.0\n",
      "MSE: 0.0\n",
      "RMSE: 0.0\n"
     ]
    }
   ],
   "source": [
    "model = LinearRegression()\n",
    "model.fit(X_train, y_train)\n",
    "y_pred = model.predict(X_test)\n",
    "\n",
    "mae = metrics.mean_absolute_error(y_test, y_pred)\n",
    "mse = metrics.mean_squared_error(y_test, y_pred)\n",
    "rmse = np.sqrt(metrics.mean_squared_error(y_test, y_pred))\n",
    "print('MAE:', mae)  \n",
    "print('MSE:', mse)  \n",
    "print('RMSE:', rmse)\n",
    "\n",
    "modelo.append(\"Linear Regression\")\n",
    "Vetmae.append(mae)\n",
    "Vetmse.append(mse)\n",
    "Vetrmse.append(rmse)"
   ]
  },
  {
   "cell_type": "code",
   "execution_count": 24,
   "metadata": {},
   "outputs": [
    {
     "data": {
      "text/plain": [
       "26    1.0\n",
       "Name: totalPorMes, dtype: float64"
      ]
     },
     "execution_count": 24,
     "metadata": {},
     "output_type": "execute_result"
    }
   ],
   "source": [
    "y_test"
   ]
  },
  {
   "cell_type": "code",
   "execution_count": 25,
   "metadata": {},
   "outputs": [
    {
     "data": {
      "text/plain": [
       "array([1.])"
      ]
     },
     "execution_count": 25,
     "metadata": {},
     "output_type": "execute_result"
    }
   ],
   "source": [
    "y_pred"
   ]
  },
  {
   "cell_type": "code",
   "execution_count": 26,
   "metadata": {},
   "outputs": [
    {
     "data": {
      "text/plain": [
       "['RandomForest', 'KNN', 'Bayesian', 'Linear Regression']"
      ]
     },
     "execution_count": 26,
     "metadata": {},
     "output_type": "execute_result"
    }
   ],
   "source": [
    "modelo"
   ]
  },
  {
   "cell_type": "code",
   "execution_count": 27,
   "metadata": {},
   "outputs": [
    {
     "data": {
      "image/png": "[encoded data removed]",
      "text/plain": [
       "<Figure size 504x504 with 1 Axes>"
      ]
     },
     "metadata": {
      "needs_background": "light"
     },
     "output_type": "display_data"
    }
   ],
   "source": [
    "modelos = np.arange(1, len(modelo)+1)\n",
    "\n",
    "plt.figure(figsize=[7,7])\n",
    "plt.title('Avaliacao dos modelos')\n",
    "plt.plot(modelos, Vetmae, '^', label = 'MAE')\n",
    "plt.plot(modelos, Vetmse, ':.', label = 'MSE')\n",
    "plt.plot(modelos, Vetrmse,':', label = 'RMSE')\n",
    "plt.legend(loc='right')\n",
    "plt.xlabel('Modelos')\n",
    "plt.ylabel('Metricas')\n",
    "plt.show()"
   ]
  }
 ],
 "metadata": {
  "kernelspec": {
   "display_name": "Python 3",
   "language": "python",
   "name": "python3"
  },
  "language_info": {
   "codemirror_mode": {
    "name": "ipython",
    "version": 3
   },
   "file_extension": ".py",
   "mimetype": "text/x-python",
   "name": "python",
   "nbconvert_exporter": "python",
   "pygments_lexer": "ipython3",
   "version": "3.7.3"
  }
 },
 "nbformat": 4,
 "nbformat_minor": 4
}
