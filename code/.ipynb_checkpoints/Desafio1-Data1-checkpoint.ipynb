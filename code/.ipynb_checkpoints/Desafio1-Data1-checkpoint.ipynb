{
 "cells": [
  {
   "cell_type": "code",
   "execution_count": 1,
   "metadata": {},
   "outputs": [],
   "source": [
    "import pandas as pd\n",
    "import numpy as np\n",
    "from sklearn import metrics\n",
    "import matplotlib.pyplot as plt\n",
    "from sklearn.preprocessing import MinMaxScaler\n",
    "from sklearn.ensemble import RandomForestRegressor\n",
    "from sklearn.neighbors import KNeighborsRegressor\n",
    "from sklearn.linear_model import LinearRegression\n",
    "from sklearn import linear_model"
   ]
  },
  {
   "cell_type": "markdown",
   "metadata": {},
   "source": [
    "#### Lendo os datasets"
   ]
  },
  {
   "cell_type": "code",
   "execution_count": 2,
   "metadata": {},
   "outputs": [],
   "source": [
    "df = pd.read_csv(\"../data/data_1__.csv\", delimiter=\",\")"
   ]
  },
  {
   "cell_type": "code",
   "execution_count": 3,
   "metadata": {},
   "outputs": [],
   "source": [
    "df.drop('index', axis=1, inplace=True)"
   ]
  },
  {
   "cell_type": "markdown",
   "metadata": {},
   "source": [
    "### Transformando os valores de data"
   ]
  },
  {
   "cell_type": "code",
   "execution_count": 4,
   "metadata": {},
   "outputs": [],
   "source": [
    "df['data'] = pd.to_datetime(df['data'])"
   ]
  },
  {
   "cell_type": "markdown",
   "metadata": {},
   "source": [
    "### Calculando o valor mensal"
   ]
  },
  {
   "cell_type": "code",
   "execution_count": 5,
   "metadata": {},
   "outputs": [],
   "source": [
    "vetUnicos = df['data'].dt.strftime('%Y-%m').unique()"
   ]
  },
  {
   "cell_type": "code",
   "execution_count": 6,
   "metadata": {},
   "outputs": [],
   "source": [
    "acumulos = []\n",
    "for i in vetUnicos:\n",
    "    acumulos.append(df[df['data'].dt.strftime('%Y-%m') == (i)].sum().valor)"
   ]
  },
  {
   "cell_type": "code",
   "execution_count": 7,
   "metadata": {},
   "outputs": [
    {
     "data": {
      "text/html": [
       "<div>\n",
       "<style scoped>\n",
       "    .dataframe tbody tr th:only-of-type {\n",
       "        vertical-align: middle;\n",
       "    }\n",
       "\n",
       "    .dataframe tbody tr th {\n",
       "        vertical-align: top;\n",
       "    }\n",
       "\n",
       "    .dataframe thead th {\n",
       "        text-align: right;\n",
       "    }\n",
       "</style>\n",
       "<table border=\"1\" class=\"dataframe\">\n",
       "  <thead>\n",
       "    <tr style=\"text-align: right;\">\n",
       "      <th></th>\n",
       "      <th>data</th>\n",
       "      <th>total</th>\n",
       "    </tr>\n",
       "  </thead>\n",
       "  <tbody>\n",
       "    <tr>\n",
       "      <td>0</td>\n",
       "      <td>2016-08</td>\n",
       "      <td>15322.30</td>\n",
       "    </tr>\n",
       "    <tr>\n",
       "      <td>1</td>\n",
       "      <td>2016-09</td>\n",
       "      <td>763561.69</td>\n",
       "    </tr>\n",
       "    <tr>\n",
       "      <td>2</td>\n",
       "      <td>2016-10</td>\n",
       "      <td>1060060.55</td>\n",
       "    </tr>\n",
       "    <tr>\n",
       "      <td>3</td>\n",
       "      <td>2016-11</td>\n",
       "      <td>972638.69</td>\n",
       "    </tr>\n",
       "    <tr>\n",
       "      <td>4</td>\n",
       "      <td>2016-12</td>\n",
       "      <td>1090154.76</td>\n",
       "    </tr>\n",
       "    <tr>\n",
       "      <td>5</td>\n",
       "      <td>2017-01</td>\n",
       "      <td>1145117.60</td>\n",
       "    </tr>\n",
       "    <tr>\n",
       "      <td>6</td>\n",
       "      <td>2017-02</td>\n",
       "      <td>593055.09</td>\n",
       "    </tr>\n",
       "    <tr>\n",
       "      <td>7</td>\n",
       "      <td>2017-03</td>\n",
       "      <td>872141.22</td>\n",
       "    </tr>\n",
       "    <tr>\n",
       "      <td>8</td>\n",
       "      <td>2017-04</td>\n",
       "      <td>803613.69</td>\n",
       "    </tr>\n",
       "    <tr>\n",
       "      <td>9</td>\n",
       "      <td>2017-05</td>\n",
       "      <td>835288.00</td>\n",
       "    </tr>\n",
       "    <tr>\n",
       "      <td>10</td>\n",
       "      <td>2017-06</td>\n",
       "      <td>772101.88</td>\n",
       "    </tr>\n",
       "    <tr>\n",
       "      <td>11</td>\n",
       "      <td>2017-07</td>\n",
       "      <td>889074.90</td>\n",
       "    </tr>\n",
       "    <tr>\n",
       "      <td>12</td>\n",
       "      <td>2017-08</td>\n",
       "      <td>541552.24</td>\n",
       "    </tr>\n",
       "    <tr>\n",
       "      <td>13</td>\n",
       "      <td>2017-09</td>\n",
       "      <td>808593.92</td>\n",
       "    </tr>\n",
       "    <tr>\n",
       "      <td>14</td>\n",
       "      <td>2017-10</td>\n",
       "      <td>893019.58</td>\n",
       "    </tr>\n",
       "    <tr>\n",
       "      <td>15</td>\n",
       "      <td>2017-11</td>\n",
       "      <td>854380.61</td>\n",
       "    </tr>\n",
       "    <tr>\n",
       "      <td>16</td>\n",
       "      <td>2017-12</td>\n",
       "      <td>1113845.04</td>\n",
       "    </tr>\n",
       "    <tr>\n",
       "      <td>17</td>\n",
       "      <td>2018-01</td>\n",
       "      <td>678717.40</td>\n",
       "    </tr>\n",
       "    <tr>\n",
       "      <td>18</td>\n",
       "      <td>2018-02</td>\n",
       "      <td>517116.27</td>\n",
       "    </tr>\n",
       "    <tr>\n",
       "      <td>19</td>\n",
       "      <td>2018-03</td>\n",
       "      <td>534316.70</td>\n",
       "    </tr>\n",
       "    <tr>\n",
       "      <td>20</td>\n",
       "      <td>2018-04</td>\n",
       "      <td>830555.18</td>\n",
       "    </tr>\n",
       "    <tr>\n",
       "      <td>21</td>\n",
       "      <td>2018-05</td>\n",
       "      <td>628620.80</td>\n",
       "    </tr>\n",
       "    <tr>\n",
       "      <td>22</td>\n",
       "      <td>2018-06</td>\n",
       "      <td>759047.88</td>\n",
       "    </tr>\n",
       "    <tr>\n",
       "      <td>23</td>\n",
       "      <td>2018-07</td>\n",
       "      <td>711501.72</td>\n",
       "    </tr>\n",
       "    <tr>\n",
       "      <td>24</td>\n",
       "      <td>2018-08</td>\n",
       "      <td>700150.67</td>\n",
       "    </tr>\n",
       "    <tr>\n",
       "      <td>25</td>\n",
       "      <td>2018-09</td>\n",
       "      <td>747653.22</td>\n",
       "    </tr>\n",
       "    <tr>\n",
       "      <td>26</td>\n",
       "      <td>2018-10</td>\n",
       "      <td>635530.09</td>\n",
       "    </tr>\n",
       "  </tbody>\n",
       "</table>\n",
       "</div>"
      ],
      "text/plain": [
       "       data       total\n",
       "0   2016-08    15322.30\n",
       "1   2016-09   763561.69\n",
       "2   2016-10  1060060.55\n",
       "3   2016-11   972638.69\n",
       "4   2016-12  1090154.76\n",
       "5   2017-01  1145117.60\n",
       "6   2017-02   593055.09\n",
       "7   2017-03   872141.22\n",
       "8   2017-04   803613.69\n",
       "9   2017-05   835288.00\n",
       "10  2017-06   772101.88\n",
       "11  2017-07   889074.90\n",
       "12  2017-08   541552.24\n",
       "13  2017-09   808593.92\n",
       "14  2017-10   893019.58\n",
       "15  2017-11   854380.61\n",
       "16  2017-12  1113845.04\n",
       "17  2018-01   678717.40\n",
       "18  2018-02   517116.27\n",
       "19  2018-03   534316.70\n",
       "20  2018-04   830555.18\n",
       "21  2018-05   628620.80\n",
       "22  2018-06   759047.88\n",
       "23  2018-07   711501.72\n",
       "24  2018-08   700150.67\n",
       "25  2018-09   747653.22\n",
       "26  2018-10   635530.09"
      ]
     },
     "execution_count": 7,
     "metadata": {},
     "output_type": "execute_result"
    }
   ],
   "source": [
    "dicionario = {\"data\":vetUnicos, \"total\":acumulos}\n",
    "dfMeses = pd.DataFrame(data=dicionario)\n",
    "dfMeses"
   ]
  },
  {
   "cell_type": "code",
   "execution_count": 8,
   "metadata": {},
   "outputs": [],
   "source": [
    "dfMeses['data'] = pd.to_datetime(dfMeses['data'])"
   ]
  },
  {
   "cell_type": "code",
   "execution_count": 9,
   "metadata": {},
   "outputs": [],
   "source": [
    "vetorAnos = dfMeses['data'].dt.strftime('%Y')\n",
    "vetorMeses = dfMeses['data'].dt.strftime('%m')\n",
    "\n",
    "dicionarioFinal = {\"ano\":vetorAnos, \"mes\":vetorMeses, \"totalPorMes\":dfMeses['total']}\n",
    "dfFinal = pd.DataFrame(data=dicionarioFinal)\n",
    "\n",
    "ordem = ['ano', 'mes']\n",
    "dfFinal = dfFinal.sort_values(by= ordem)"
   ]
  },
  {
   "cell_type": "code",
   "execution_count": 10,
   "metadata": {},
   "outputs": [
    {
     "data": {
      "text/html": [
       "<div>\n",
       "<style scoped>\n",
       "    .dataframe tbody tr th:only-of-type {\n",
       "        vertical-align: middle;\n",
       "    }\n",
       "\n",
       "    .dataframe tbody tr th {\n",
       "        vertical-align: top;\n",
       "    }\n",
       "\n",
       "    .dataframe thead th {\n",
       "        text-align: right;\n",
       "    }\n",
       "</style>\n",
       "<table border=\"1\" class=\"dataframe\">\n",
       "  <thead>\n",
       "    <tr style=\"text-align: right;\">\n",
       "      <th></th>\n",
       "      <th>ano</th>\n",
       "      <th>mes</th>\n",
       "      <th>totalPorMes</th>\n",
       "    </tr>\n",
       "  </thead>\n",
       "  <tbody>\n",
       "    <tr>\n",
       "      <td>0</td>\n",
       "      <td>2016</td>\n",
       "      <td>08</td>\n",
       "      <td>15322.30</td>\n",
       "    </tr>\n",
       "    <tr>\n",
       "      <td>1</td>\n",
       "      <td>2016</td>\n",
       "      <td>09</td>\n",
       "      <td>763561.69</td>\n",
       "    </tr>\n",
       "    <tr>\n",
       "      <td>2</td>\n",
       "      <td>2016</td>\n",
       "      <td>10</td>\n",
       "      <td>1060060.55</td>\n",
       "    </tr>\n",
       "    <tr>\n",
       "      <td>3</td>\n",
       "      <td>2016</td>\n",
       "      <td>11</td>\n",
       "      <td>972638.69</td>\n",
       "    </tr>\n",
       "    <tr>\n",
       "      <td>4</td>\n",
       "      <td>2016</td>\n",
       "      <td>12</td>\n",
       "      <td>1090154.76</td>\n",
       "    </tr>\n",
       "    <tr>\n",
       "      <td>5</td>\n",
       "      <td>2017</td>\n",
       "      <td>01</td>\n",
       "      <td>1145117.60</td>\n",
       "    </tr>\n",
       "    <tr>\n",
       "      <td>6</td>\n",
       "      <td>2017</td>\n",
       "      <td>02</td>\n",
       "      <td>593055.09</td>\n",
       "    </tr>\n",
       "    <tr>\n",
       "      <td>7</td>\n",
       "      <td>2017</td>\n",
       "      <td>03</td>\n",
       "      <td>872141.22</td>\n",
       "    </tr>\n",
       "    <tr>\n",
       "      <td>8</td>\n",
       "      <td>2017</td>\n",
       "      <td>04</td>\n",
       "      <td>803613.69</td>\n",
       "    </tr>\n",
       "    <tr>\n",
       "      <td>9</td>\n",
       "      <td>2017</td>\n",
       "      <td>05</td>\n",
       "      <td>835288.00</td>\n",
       "    </tr>\n",
       "    <tr>\n",
       "      <td>10</td>\n",
       "      <td>2017</td>\n",
       "      <td>06</td>\n",
       "      <td>772101.88</td>\n",
       "    </tr>\n",
       "    <tr>\n",
       "      <td>11</td>\n",
       "      <td>2017</td>\n",
       "      <td>07</td>\n",
       "      <td>889074.90</td>\n",
       "    </tr>\n",
       "    <tr>\n",
       "      <td>12</td>\n",
       "      <td>2017</td>\n",
       "      <td>08</td>\n",
       "      <td>541552.24</td>\n",
       "    </tr>\n",
       "    <tr>\n",
       "      <td>13</td>\n",
       "      <td>2017</td>\n",
       "      <td>09</td>\n",
       "      <td>808593.92</td>\n",
       "    </tr>\n",
       "    <tr>\n",
       "      <td>14</td>\n",
       "      <td>2017</td>\n",
       "      <td>10</td>\n",
       "      <td>893019.58</td>\n",
       "    </tr>\n",
       "    <tr>\n",
       "      <td>15</td>\n",
       "      <td>2017</td>\n",
       "      <td>11</td>\n",
       "      <td>854380.61</td>\n",
       "    </tr>\n",
       "    <tr>\n",
       "      <td>16</td>\n",
       "      <td>2017</td>\n",
       "      <td>12</td>\n",
       "      <td>1113845.04</td>\n",
       "    </tr>\n",
       "    <tr>\n",
       "      <td>17</td>\n",
       "      <td>2018</td>\n",
       "      <td>01</td>\n",
       "      <td>678717.40</td>\n",
       "    </tr>\n",
       "    <tr>\n",
       "      <td>18</td>\n",
       "      <td>2018</td>\n",
       "      <td>02</td>\n",
       "      <td>517116.27</td>\n",
       "    </tr>\n",
       "    <tr>\n",
       "      <td>19</td>\n",
       "      <td>2018</td>\n",
       "      <td>03</td>\n",
       "      <td>534316.70</td>\n",
       "    </tr>\n",
       "    <tr>\n",
       "      <td>20</td>\n",
       "      <td>2018</td>\n",
       "      <td>04</td>\n",
       "      <td>830555.18</td>\n",
       "    </tr>\n",
       "    <tr>\n",
       "      <td>21</td>\n",
       "      <td>2018</td>\n",
       "      <td>05</td>\n",
       "      <td>628620.80</td>\n",
       "    </tr>\n",
       "    <tr>\n",
       "      <td>22</td>\n",
       "      <td>2018</td>\n",
       "      <td>06</td>\n",
       "      <td>759047.88</td>\n",
       "    </tr>\n",
       "    <tr>\n",
       "      <td>23</td>\n",
       "      <td>2018</td>\n",
       "      <td>07</td>\n",
       "      <td>711501.72</td>\n",
       "    </tr>\n",
       "    <tr>\n",
       "      <td>24</td>\n",
       "      <td>2018</td>\n",
       "      <td>08</td>\n",
       "      <td>700150.67</td>\n",
       "    </tr>\n",
       "    <tr>\n",
       "      <td>25</td>\n",
       "      <td>2018</td>\n",
       "      <td>09</td>\n",
       "      <td>747653.22</td>\n",
       "    </tr>\n",
       "    <tr>\n",
       "      <td>26</td>\n",
       "      <td>2018</td>\n",
       "      <td>10</td>\n",
       "      <td>635530.09</td>\n",
       "    </tr>\n",
       "  </tbody>\n",
       "</table>\n",
       "</div>"
      ],
      "text/plain": [
       "     ano mes  totalPorMes\n",
       "0   2016  08     15322.30\n",
       "1   2016  09    763561.69\n",
       "2   2016  10   1060060.55\n",
       "3   2016  11    972638.69\n",
       "4   2016  12   1090154.76\n",
       "5   2017  01   1145117.60\n",
       "6   2017  02    593055.09\n",
       "7   2017  03    872141.22\n",
       "8   2017  04    803613.69\n",
       "9   2017  05    835288.00\n",
       "10  2017  06    772101.88\n",
       "11  2017  07    889074.90\n",
       "12  2017  08    541552.24\n",
       "13  2017  09    808593.92\n",
       "14  2017  10    893019.58\n",
       "15  2017  11    854380.61\n",
       "16  2017  12   1113845.04\n",
       "17  2018  01    678717.40\n",
       "18  2018  02    517116.27\n",
       "19  2018  03    534316.70\n",
       "20  2018  04    830555.18\n",
       "21  2018  05    628620.80\n",
       "22  2018  06    759047.88\n",
       "23  2018  07    711501.72\n",
       "24  2018  08    700150.67\n",
       "25  2018  09    747653.22\n",
       "26  2018  10    635530.09"
      ]
     },
     "execution_count": 10,
     "metadata": {},
     "output_type": "execute_result"
    }
   ],
   "source": [
    "dfFinal"
   ]
  },
  {
   "cell_type": "markdown",
   "metadata": {},
   "source": [
    "### Normalizando os dados"
   ]
  },
  {
   "cell_type": "code",
   "execution_count": 11,
   "metadata": {},
   "outputs": [],
   "source": [
    "#scaler = MinMaxScaler() \n",
    "#scaled_values = scaler.fit_transform(dfFinal) \n",
    "#dfFinal['totalPorMes'] = scaled_values\n",
    "#dfFinal['totalPorMes'].plot();"
   ]
  },
  {
   "cell_type": "markdown",
   "metadata": {},
   "source": [
    "### Separando treino e teste"
   ]
  },
  {
   "cell_type": "code",
   "execution_count": 12,
   "metadata": {},
   "outputs": [],
   "source": [
    "dfteste = dfFinal[dfFinal.index == dfFinal.index[-1]]\n",
    "dfTrain = dfFinal.drop(dfFinal.index[-1], axis=0)\n",
    "\n",
    "X_test = dfteste.drop(\"totalPorMes\", axis=1)\n",
    "y_test = dfteste['totalPorMes']\n",
    "\n",
    "\n",
    "X_train = dfTrain.drop(\"totalPorMes\", axis=1)\n",
    "y_train = dfTrain[\"totalPorMes\"]"
   ]
  },
  {
   "cell_type": "code",
   "execution_count": 13,
   "metadata": {},
   "outputs": [],
   "source": [
    "Vetmae = []\n",
    "Vetmse = []\n",
    "Vetrmse = []\n",
    "modelo = []"
   ]
  },
  {
   "cell_type": "markdown",
   "metadata": {},
   "source": [
    "## RadomForest"
   ]
  },
  {
   "cell_type": "code",
   "execution_count": 14,
   "metadata": {},
   "outputs": [
    {
     "data": {
      "image/png": "[encoded data removed]",
      "text/plain": [
       "<Figure size 432x288 with 1 Axes>"
      ]
     },
     "metadata": {
      "needs_background": "light"
     },
     "output_type": "display_data"
    }
   ],
   "source": [
    "neighbors = np.arange(1, 26)\n",
    "mae = np.empty(len(neighbors))\n",
    "mse = np.empty(len(neighbors))\n",
    "rmse = np.empty(len(neighbors))\n",
    "\n",
    "for i, k in enumerate(neighbors):\n",
    "    rf = RandomForestRegressor(random_state=5, n_estimators=k)\n",
    "    rf.fit(X_train, y_train)\n",
    "    y_pred = rf.predict(X_test)\n",
    "    mae[i] = metrics.mean_absolute_error(y_test, y_pred)\n",
    "    mse[i] = metrics.mean_squared_error(y_test, y_pred)\n",
    "    rmse[i] = metrics.mean_squared_error(y_test, y_pred)\n",
    "\n",
    "# gerando o grafico\n",
    "plt.title('Modelo Random Forest')\n",
    "plt.plot(neighbors, mae, label = 'MAE')\n",
    "plt.plot(neighbors, mse, label = 'MSE')\n",
    "plt.plot(neighbors, rmse, label = 'RMSE')\n",
    "plt.legend()\n",
    "plt.xlabel('Número de arvores')\n",
    "plt.ylabel('metricas')\n",
    "plt.show()"
   ]
  },
  {
   "cell_type": "code",
   "execution_count": 15,
   "metadata": {},
   "outputs": [
    {
     "name": "stdout",
     "output_type": "stream",
     "text": [
      "MAE: 112123.12999999989\n",
      "MSE: 12571596280.996876\n",
      "RMSE: 112123.12999999989\n"
     ]
    }
   ],
   "source": [
    "rf = RandomForestRegressor(random_state=5, n_estimators=1)\n",
    "rf.fit(X_train, y_train)\n",
    "y_pred = rf.predict(X_test)\n",
    "\n",
    "mae = metrics.mean_absolute_error(y_test, y_pred)\n",
    "mse = metrics.mean_squared_error(y_test, y_pred)\n",
    "rmse = np.sqrt(metrics.mean_squared_error(y_test, y_pred))\n",
    "print('MAE:', mae)  \n",
    "print('MSE:', mse)  \n",
    "print('RMSE:', rmse)\n",
    "\n",
    "modelo.append(\"RandomForest\")\n",
    "Vetmae.append(mae)\n",
    "Vetmse.append(mse)\n",
    "Vetrmse.append(rmse)"
   ]
  },
  {
   "cell_type": "code",
   "execution_count": 16,
   "metadata": {},
   "outputs": [
    {
     "data": {
      "text/plain": [
       "26    635530.09\n",
       "Name: totalPorMes, dtype: float64"
      ]
     },
     "execution_count": 16,
     "metadata": {},
     "output_type": "execute_result"
    }
   ],
   "source": [
    "y_test"
   ]
  },
  {
   "cell_type": "code",
   "execution_count": 17,
   "metadata": {},
   "outputs": [
    {
     "data": {
      "text/plain": [
       "array([747653.22])"
      ]
     },
     "execution_count": 17,
     "metadata": {},
     "output_type": "execute_result"
    }
   ],
   "source": [
    "y_pred"
   ]
  },
  {
   "cell_type": "markdown",
   "metadata": {},
   "source": [
    "## KNN"
   ]
  },
  {
   "cell_type": "code",
   "execution_count": 18,
   "metadata": {},
   "outputs": [
    {
     "data": {
      "image/png": "[encoded data removed]",
      "text/plain": [
       "<Figure size 432x288 with 1 Axes>"
      ]
     },
     "metadata": {
      "needs_background": "light"
     },
     "output_type": "display_data"
    }
   ],
   "source": [
    "neighbors = np.arange(1, 25)\n",
    "mae = np.empty(len(neighbors))\n",
    "mse = np.empty(len(neighbors))\n",
    "rmse = np.empty(len(neighbors))\n",
    "\n",
    "for i, k in enumerate(neighbors):\n",
    "    kn = KNeighborsRegressor(n_neighbors=k)\n",
    "    kn.fit(X_train, y_train)\n",
    "    y_pred = kn.predict(X_test)\n",
    "    mae[i] = metrics.mean_absolute_error(y_test, y_pred)\n",
    "    mse[i] = metrics.mean_squared_error(y_test, y_pred)\n",
    "    rmse[i] = metrics.mean_squared_error(y_test, y_pred)\n",
    "\n",
    "# gerando o grafico\n",
    "plt.title('Modelo KNN')\n",
    "plt.plot(neighbors, mae, label = 'MAE')\n",
    "plt.plot(neighbors, mse, label = 'MSE')\n",
    "plt.plot(neighbors, rmse, label = 'RMSE')\n",
    "plt.legend()\n",
    "plt.xlabel('Número de vizinhos')\n",
    "plt.ylabel('metricas')\n",
    "plt.show()"
   ]
  },
  {
   "cell_type": "code",
   "execution_count": 19,
   "metadata": {},
   "outputs": [
    {
     "data": {
      "image/png": "[encoded data removed]",
      "text/plain": [
       "<Figure size 432x288 with 1 Axes>"
      ]
     },
     "metadata": {
      "needs_background": "light"
     },
     "output_type": "display_data"
    }
   ],
   "source": [
    "neighbors = np.arange(1, 4)\n",
    "mae = np.empty(len(neighbors))\n",
    "mse = np.empty(len(neighbors))\n",
    "rmse = np.empty(len(neighbors))\n",
    "\n",
    "for i, k in enumerate(neighbors):\n",
    "    kn = KNeighborsRegressor(n_neighbors=k)\n",
    "    kn.fit(X_train, y_train)\n",
    "    y_pred = kn.predict(X_test)\n",
    "    mae[i] = metrics.mean_absolute_error(y_test, y_pred)\n",
    "    mse[i] = metrics.mean_squared_error(y_test, y_pred)\n",
    "    rmse[i] = metrics.mean_squared_error(y_test, y_pred)\n",
    "\n",
    "# gerando o grafico\n",
    "plt.title('Modelo KNN')\n",
    "plt.plot(neighbors, mae, label = 'MAE')\n",
    "plt.plot(neighbors, mse, label = 'MSE')\n",
    "plt.plot(neighbors, rmse, label = 'RMSE')\n",
    "plt.legend()\n",
    "plt.xlabel('Número de vizinhos')\n",
    "plt.ylabel('metricas')\n",
    "plt.show()"
   ]
  },
  {
   "cell_type": "code",
   "execution_count": 20,
   "metadata": {},
   "outputs": [
    {
     "name": "stdout",
     "output_type": "stream",
     "text": [
      "MAE: 184806.30999999982\n",
      "MSE: 34153372215.816036\n",
      "RMSE: 184806.30999999982\n"
     ]
    }
   ],
   "source": [
    "kn = KNeighborsRegressor(n_neighbors=2)\n",
    "kn.fit(X_train, y_train)\n",
    "y_pred = kn.predict(X_test)\n",
    "\n",
    "mae = metrics.mean_absolute_error(y_test, y_pred)\n",
    "mse = metrics.mean_squared_error(y_test, y_pred)\n",
    "rmse = np.sqrt(metrics.mean_squared_error(y_test, y_pred))\n",
    "print('MAE:', mae)  \n",
    "print('MSE:', mse)  \n",
    "print('RMSE:', rmse)\n",
    "\n",
    "modelo.append(\"KNN\")\n",
    "Vetmae.append(mae)\n",
    "Vetmse.append(mse)\n",
    "Vetrmse.append(rmse)"
   ]
  },
  {
   "cell_type": "markdown",
   "metadata": {},
   "source": [
    "### BayesianRidge"
   ]
  },
  {
   "cell_type": "code",
   "execution_count": 21,
   "metadata": {},
   "outputs": [
    {
     "name": "stdout",
     "output_type": "stream",
     "text": [
      "MAE: 138746.89496004523\n",
      "MSE: 19250700861.053825\n",
      "RMSE: 138746.89496004523\n"
     ]
    }
   ],
   "source": [
    "reg = linear_model.BayesianRidge()\n",
    "reg.fit(X_train, y_train)\n",
    "y_pred = reg.predict(X_test)\n",
    "\n",
    "mae = metrics.mean_absolute_error(y_test, y_pred)\n",
    "mse = metrics.mean_squared_error(y_test, y_pred)\n",
    "rmse = np.sqrt(metrics.mean_squared_error(y_test, y_pred))\n",
    "print('MAE:', mae)  \n",
    "print('MSE:', mse)  \n",
    "print('RMSE:', rmse)\n",
    "\n",
    "modelo.append(\"Bayesian\")\n",
    "Vetmae.append(mae)\n",
    "Vetmse.append(mse)\n",
    "Vetrmse.append(rmse)"
   ]
  },
  {
   "cell_type": "markdown",
   "metadata": {},
   "source": [
    "### LinearRegression"
   ]
  },
  {
   "cell_type": "code",
   "execution_count": 22,
   "metadata": {},
   "outputs": [
    {
     "name": "stdout",
     "output_type": "stream",
     "text": [
      "MAE: 166925.72490483127\n",
      "MSE: 27864197635.003407\n",
      "RMSE: 166925.72490483127\n"
     ]
    }
   ],
   "source": [
    "model = LinearRegression()\n",
    "model.fit(X_train, y_train)\n",
    "y_pred = model.predict(X_test)\n",
    "\n",
    "mae = metrics.mean_absolute_error(y_test, y_pred)\n",
    "mse = metrics.mean_squared_error(y_test, y_pred)\n",
    "rmse = np.sqrt(metrics.mean_squared_error(y_test, y_pred))\n",
    "print('MAE:', mae)  \n",
    "print('MSE:', mse)  \n",
    "print('RMSE:', rmse)\n",
    "\n",
    "modelo.append(\"Linear Regression\")\n",
    "Vetmae.append(mae)\n",
    "Vetmse.append(mse)\n",
    "Vetrmse.append(rmse)"
   ]
  },
  {
   "cell_type": "code",
   "execution_count": 23,
   "metadata": {},
   "outputs": [
    {
     "data": {
      "text/plain": [
       "26    635530.09\n",
       "Name: totalPorMes, dtype: float64"
      ]
     },
     "execution_count": 23,
     "metadata": {},
     "output_type": "execute_result"
    }
   ],
   "source": [
    "y_test"
   ]
  },
  {
   "cell_type": "code",
   "execution_count": 24,
   "metadata": {},
   "outputs": [
    {
     "data": {
      "text/plain": [
       "array([802455.81490483])"
      ]
     },
     "execution_count": 24,
     "metadata": {},
     "output_type": "execute_result"
    }
   ],
   "source": [
    "y_pred"
   ]
  },
  {
   "cell_type": "code",
   "execution_count": 25,
   "metadata": {},
   "outputs": [
    {
     "data": {
      "text/plain": [
       "['RandomForest', 'KNN', 'Bayesian', 'Linear Regression']"
      ]
     },
     "execution_count": 25,
     "metadata": {},
     "output_type": "execute_result"
    }
   ],
   "source": [
    "modelo"
   ]
  },
  {
   "cell_type": "code",
   "execution_count": 26,
   "metadata": {},
   "outputs": [
    {
     "data": {
      "image/png": "[encoded data removed]",
      "text/plain": [
       "<Figure size 504x504 with 1 Axes>"
      ]
     },
     "metadata": {
      "needs_background": "light"
     },
     "output_type": "display_data"
    }
   ],
   "source": [
    "modelos = np.arange(1, len(modelo)+1)\n",
    "\n",
    "plt.figure(figsize=[7,7])\n",
    "plt.title('Avaliacao dos modelos')\n",
    "plt.plot(modelos, Vetmae, '^', label = 'MAE')\n",
    "plt.plot(modelos, Vetmse, ':.', label = 'MSE')\n",
    "plt.plot(modelos, Vetrmse,':', label = 'RMSE')\n",
    "plt.legend(loc='right')\n",
    "plt.xlabel('Modelos')\n",
    "plt.ylabel('Metricas')\n",
    "plt.show()"
   ]
  }
 ],
 "metadata": {
  "kernelspec": {
   "display_name": "Python 3",
   "language": "python",
   "name": "python3"
  },
  "language_info": {
   "codemirror_mode": {
    "name": "ipython",
    "version": 3
   },
   "file_extension": ".py",
   "mimetype": "text/x-python",
   "name": "python",
   "nbconvert_exporter": "python",
   "pygments_lexer": "ipython3",
   "version": "3.7.4"
  }
 },
 "nbformat": 4,
 "nbformat_minor": 4
}
