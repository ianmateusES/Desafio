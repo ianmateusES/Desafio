{
 "cells": [
  {
   "cell_type": "code",
   "execution_count": 1,
   "metadata": {},
   "outputs": [],
   "source": [
    "import pandas as pd\n",
    "import numpy as np\n",
    "from sklearn import metrics\n",
    "import matplotlib.pyplot as plt\n",
    "from sklearn.preprocessing import MinMaxScaler\n",
    "from sklearn.ensemble import RandomForestRegressor\n",
    "from sklearn.neighbors import KNeighborsRegressor\n",
    "from sklearn.linear_model import LinearRegression\n",
    "from sklearn import linear_model"
   ]
  },
  {
   "cell_type": "markdown",
   "metadata": {},
   "source": [
    "#### Lendo os datasets"
   ]
  },
  {
   "cell_type": "code",
   "execution_count": 19,
   "metadata": {},
   "outputs": [
    {
     "data": {
      "text/html": [
       "<div>\n",
       "<style scoped>\n",
       "    .dataframe tbody tr th:only-of-type {\n",
       "        vertical-align: middle;\n",
       "    }\n",
       "\n",
       "    .dataframe tbody tr th {\n",
       "        vertical-align: top;\n",
       "    }\n",
       "\n",
       "    .dataframe thead th {\n",
       "        text-align: right;\n",
       "    }\n",
       "</style>\n",
       "<table border=\"1\" class=\"dataframe\">\n",
       "  <thead>\n",
       "    <tr style=\"text-align: right;\">\n",
       "      <th></th>\n",
       "      <th>index</th>\n",
       "      <th>data</th>\n",
       "      <th>valor</th>\n",
       "    </tr>\n",
       "  </thead>\n",
       "  <tbody>\n",
       "    <tr>\n",
       "      <td>0</td>\n",
       "      <td>0</td>\n",
       "      <td>2018-08-21</td>\n",
       "      <td>3914.55</td>\n",
       "    </tr>\n",
       "    <tr>\n",
       "      <td>1</td>\n",
       "      <td>1</td>\n",
       "      <td>2018-08-22</td>\n",
       "      <td>3713.02</td>\n",
       "    </tr>\n",
       "    <tr>\n",
       "      <td>2</td>\n",
       "      <td>2</td>\n",
       "      <td>2018-08-23</td>\n",
       "      <td>8001.75</td>\n",
       "    </tr>\n",
       "    <tr>\n",
       "      <td>3</td>\n",
       "      <td>3</td>\n",
       "      <td>2018-08-24</td>\n",
       "      <td>11312.95</td>\n",
       "    </tr>\n",
       "    <tr>\n",
       "      <td>4</td>\n",
       "      <td>4</td>\n",
       "      <td>2018-08-25</td>\n",
       "      <td>15230.01</td>\n",
       "    </tr>\n",
       "    <tr>\n",
       "      <td>...</td>\n",
       "      <td>...</td>\n",
       "      <td>...</td>\n",
       "      <td>...</td>\n",
       "    </tr>\n",
       "    <tr>\n",
       "      <td>67</td>\n",
       "      <td>67</td>\n",
       "      <td>2018-10-27</td>\n",
       "      <td>15060.21</td>\n",
       "    </tr>\n",
       "    <tr>\n",
       "      <td>68</td>\n",
       "      <td>68</td>\n",
       "      <td>2018-10-28</td>\n",
       "      <td>13367.74</td>\n",
       "    </tr>\n",
       "    <tr>\n",
       "      <td>69</td>\n",
       "      <td>69</td>\n",
       "      <td>2018-10-29</td>\n",
       "      <td>4178.29</td>\n",
       "    </tr>\n",
       "    <tr>\n",
       "      <td>70</td>\n",
       "      <td>70</td>\n",
       "      <td>2018-10-30</td>\n",
       "      <td>2623.59</td>\n",
       "    </tr>\n",
       "    <tr>\n",
       "      <td>71</td>\n",
       "      <td>71</td>\n",
       "      <td>2018-10-31</td>\n",
       "      <td>6190.43</td>\n",
       "    </tr>\n",
       "  </tbody>\n",
       "</table>\n",
       "<p>72 rows × 3 columns</p>\n",
       "</div>"
      ],
      "text/plain": [
       "    index        data     valor\n",
       "0       0  2018-08-21   3914.55\n",
       "1       1  2018-08-22   3713.02\n",
       "2       2  2018-08-23   8001.75\n",
       "3       3  2018-08-24  11312.95\n",
       "4       4  2018-08-25  15230.01\n",
       "..    ...         ...       ...\n",
       "67     67  2018-10-27  15060.21\n",
       "68     68  2018-10-28  13367.74\n",
       "69     69  2018-10-29   4178.29\n",
       "70     70  2018-10-30   2623.59\n",
       "71     71  2018-10-31   6190.43\n",
       "\n",
       "[72 rows x 3 columns]"
      ]
     },
     "execution_count": 19,
     "metadata": {},
     "output_type": "execute_result"
    }
   ],
   "source": [
    "df = pd.read_csv(\"../data/data_3__.csv\", delimiter=\",\")"
   ]
  },
  {
   "cell_type": "code",
   "execution_count": 3,
   "metadata": {},
   "outputs": [],
   "source": [
    "df.drop('index', axis=1, inplace=True)"
   ]
  },
  {
   "cell_type": "markdown",
   "metadata": {},
   "source": [
    "### Transformando os valores de data"
   ]
  },
  {
   "cell_type": "code",
   "execution_count": 4,
   "metadata": {},
   "outputs": [],
   "source": [
    "df['data'] = pd.to_datetime(df['data'])"
   ]
  },
  {
   "cell_type": "markdown",
   "metadata": {},
   "source": [
    "### Calculando o valor mensal"
   ]
  },
  {
   "cell_type": "code",
   "execution_count": 5,
   "metadata": {},
   "outputs": [],
   "source": [
    "vetUnicos = df['data'].dt.strftime('%Y-%m').unique()"
   ]
  },
  {
   "cell_type": "code",
   "execution_count": 6,
   "metadata": {},
   "outputs": [],
   "source": [
    "acumulos = []\n",
    "for i in vetUnicos:\n",
    "    acumulos.append(df[df['data'].dt.strftime('%Y-%m') == (i)].sum().valor)"
   ]
  },
  {
   "cell_type": "code",
   "execution_count": 7,
   "metadata": {},
   "outputs": [
    {
     "data": {
      "text/html": [
       "<div>\n",
       "<style scoped>\n",
       "    .dataframe tbody tr th:only-of-type {\n",
       "        vertical-align: middle;\n",
       "    }\n",
       "\n",
       "    .dataframe tbody tr th {\n",
       "        vertical-align: top;\n",
       "    }\n",
       "\n",
       "    .dataframe thead th {\n",
       "        text-align: right;\n",
       "    }\n",
       "</style>\n",
       "<table border=\"1\" class=\"dataframe\">\n",
       "  <thead>\n",
       "    <tr style=\"text-align: right;\">\n",
       "      <th></th>\n",
       "      <th>data</th>\n",
       "      <th>total</th>\n",
       "    </tr>\n",
       "  </thead>\n",
       "  <tbody>\n",
       "    <tr>\n",
       "      <td>0</td>\n",
       "      <td>2018-08</td>\n",
       "      <td>83050.67</td>\n",
       "    </tr>\n",
       "    <tr>\n",
       "      <td>1</td>\n",
       "      <td>2018-09</td>\n",
       "      <td>296706.28</td>\n",
       "    </tr>\n",
       "    <tr>\n",
       "      <td>2</td>\n",
       "      <td>2018-10</td>\n",
       "      <td>275052.14</td>\n",
       "    </tr>\n",
       "  </tbody>\n",
       "</table>\n",
       "</div>"
      ],
      "text/plain": [
       "      data      total\n",
       "0  2018-08   83050.67\n",
       "1  2018-09  296706.28\n",
       "2  2018-10  275052.14"
      ]
     },
     "execution_count": 7,
     "metadata": {},
     "output_type": "execute_result"
    }
   ],
   "source": [
    "dicionario = {\"data\":vetUnicos, \"total\":acumulos}\n",
    "dfMeses = pd.DataFrame(data=dicionario)\n",
    "dfMeses"
   ]
  },
  {
   "cell_type": "code",
   "execution_count": 8,
   "metadata": {},
   "outputs": [],
   "source": [
    "dfMeses['data'] = pd.to_datetime(dfMeses['data'])"
   ]
  },
  {
   "cell_type": "code",
   "execution_count": 9,
   "metadata": {},
   "outputs": [],
   "source": [
    "vetorAnos = dfMeses['data'].dt.strftime('%Y')\n",
    "vetorMeses = dfMeses['data'].dt.strftime('%m')\n",
    "\n",
    "dicionarioFinal = {\"ano\":vetorAnos, \"mes\":vetorMeses, \"totalPorMes\":dfMeses['total']}\n",
    "dfFinal = pd.DataFrame(data=dicionarioFinal)\n",
    "\n",
    "ordem = ['ano', 'mes']\n",
    "dfFinal = dfFinal.sort_values(by= ordem)"
   ]
  },
  {
   "cell_type": "code",
   "execution_count": 10,
   "metadata": {},
   "outputs": [
    {
     "data": {
      "text/html": [
       "<div>\n",
       "<style scoped>\n",
       "    .dataframe tbody tr th:only-of-type {\n",
       "        vertical-align: middle;\n",
       "    }\n",
       "\n",
       "    .dataframe tbody tr th {\n",
       "        vertical-align: top;\n",
       "    }\n",
       "\n",
       "    .dataframe thead th {\n",
       "        text-align: right;\n",
       "    }\n",
       "</style>\n",
       "<table border=\"1\" class=\"dataframe\">\n",
       "  <thead>\n",
       "    <tr style=\"text-align: right;\">\n",
       "      <th></th>\n",
       "      <th>ano</th>\n",
       "      <th>mes</th>\n",
       "      <th>totalPorMes</th>\n",
       "    </tr>\n",
       "  </thead>\n",
       "  <tbody>\n",
       "    <tr>\n",
       "      <td>0</td>\n",
       "      <td>2018</td>\n",
       "      <td>08</td>\n",
       "      <td>83050.67</td>\n",
       "    </tr>\n",
       "    <tr>\n",
       "      <td>1</td>\n",
       "      <td>2018</td>\n",
       "      <td>09</td>\n",
       "      <td>296706.28</td>\n",
       "    </tr>\n",
       "    <tr>\n",
       "      <td>2</td>\n",
       "      <td>2018</td>\n",
       "      <td>10</td>\n",
       "      <td>275052.14</td>\n",
       "    </tr>\n",
       "  </tbody>\n",
       "</table>\n",
       "</div>"
      ],
      "text/plain": [
       "    ano mes  totalPorMes\n",
       "0  2018  08     83050.67\n",
       "1  2018  09    296706.28\n",
       "2  2018  10    275052.14"
      ]
     },
     "execution_count": 10,
     "metadata": {},
     "output_type": "execute_result"
    }
   ],
   "source": [
    "dfFinal"
   ]
  },
  {
   "cell_type": "markdown",
   "metadata": {},
   "source": [
    "### Normalizando os dados"
   ]
  },
  {
   "cell_type": "code",
   "execution_count": 11,
   "metadata": {},
   "outputs": [],
   "source": [
    "#scaler = MinMaxScaler() \n",
    "#scaled_values = scaler.fit_transform(dfFinal) \n",
    "#dfFinal['totalPorMes'] = scaled_values\n",
    "#dfFinal['totalPorMes'].plot();"
   ]
  },
  {
   "cell_type": "markdown",
   "metadata": {},
   "source": [
    "### Separando treino e teste"
   ]
  },
  {
   "cell_type": "code",
   "execution_count": 12,
   "metadata": {},
   "outputs": [],
   "source": [
    "dfteste = dfFinal[dfFinal.index == dfFinal.index[-1]]\n",
    "dfTrain = dfFinal.drop(dfFinal.index[-1], axis=0)\n",
    "\n",
    "X_test = dfteste.drop(\"totalPorMes\", axis=1)\n",
    "y_test = dfteste['totalPorMes']\n",
    "\n",
    "\n",
    "X_train = dfTrain.drop(\"totalPorMes\", axis=1)\n",
    "y_train = dfTrain[\"totalPorMes\"]"
   ]
  },
  {
   "cell_type": "code",
   "execution_count": 13,
   "metadata": {},
   "outputs": [],
   "source": [
    "Vetmae = []\n",
    "Vetmse = []\n",
    "Vetrmse = []\n",
    "modelo = []"
   ]
  },
  {
   "cell_type": "markdown",
   "metadata": {},
   "source": [
    "## RadomForest"
   ]
  },
  {
   "cell_type": "code",
   "execution_count": 14,
   "metadata": {},
   "outputs": [
    {
     "data": {
      "image/png": "[encoded data removed]",
      "text/plain": [
       "<Figure size 432x288 with 1 Axes>"
      ]
     },
     "metadata": {
      "needs_background": "light"
     },
     "output_type": "display_data"
    }
   ],
   "source": [
    "neighbors = np.arange(1, 26)\n",
    "mae = np.empty(len(neighbors))\n",
    "mse = np.empty(len(neighbors))\n",
    "rmse = np.empty(len(neighbors))\n",
    "\n",
    "for i, k in enumerate(neighbors):\n",
    "    rf = RandomForestRegressor(random_state=5, n_estimators=k)\n",
    "    rf.fit(X_train, y_train)\n",
    "    y_pred = rf.predict(X_test)\n",
    "    mae[i] = metrics.mean_absolute_error(y_test, y_pred)\n",
    "    mse[i] = metrics.mean_squared_error(y_test, y_pred)\n",
    "    rmse[i] = metrics.mean_squared_error(y_test, y_pred)\n",
    "\n",
    "# gerando o grafico\n",
    "plt.title('Modelo Random Forest')\n",
    "plt.plot(neighbors, mae, label = 'MAE')\n",
    "plt.plot(neighbors, mse, label = 'MSE')\n",
    "plt.plot(neighbors, rmse, label = 'RMSE')\n",
    "plt.legend()\n",
    "plt.xlabel('Número de arvores')\n",
    "plt.ylabel('metricas')\n",
    "plt.show()"
   ]
  },
  {
   "cell_type": "code",
   "execution_count": 30,
   "metadata": {},
   "outputs": [
    {
     "name": "stdout",
     "output_type": "stream",
     "text": [
      "MAE: 288.5789999999106\n",
      "MSE: 83277.8392409484\n",
      "RMSE: 288.5789999999106\n"
     ]
    }
   ],
   "source": [
    "rf = RandomForestRegressor(random_state=5, n_estimators=10)\n",
    "rf.fit(X_train, y_train)\n",
    "y_pred = rf.predict(X_test)\n",
    "\n",
    "mae = metrics.mean_absolute_error(y_test, y_pred)\n",
    "mse = metrics.mean_squared_error(y_test, y_pred)\n",
    "rmse = np.sqrt(metrics.mean_squared_error(y_test, y_pred))\n",
    "print('MAE:', mae)  \n",
    "print('MSE:', mse)  \n",
    "print('RMSE:', rmse)\n",
    "\n",
    "modelo.append(\"RandomForest\")\n",
    "Vetmae.append(mae)\n",
    "Vetmse.append(mse)\n",
    "Vetrmse.append(rmse)"
   ]
  },
  {
   "cell_type": "code",
   "execution_count": 31,
   "metadata": {},
   "outputs": [
    {
     "data": {
      "text/plain": [
       "2    275052.14\n",
       "Name: totalPorMes, dtype: float64"
      ]
     },
     "execution_count": 31,
     "metadata": {},
     "output_type": "execute_result"
    }
   ],
   "source": [
    "y_test"
   ]
  },
  {
   "cell_type": "code",
   "execution_count": 32,
   "metadata": {},
   "outputs": [
    {
     "data": {
      "text/plain": [
       "array([275340.719])"
      ]
     },
     "execution_count": 32,
     "metadata": {},
     "output_type": "execute_result"
    }
   ],
   "source": [
    "y_pred"
   ]
  },
  {
   "cell_type": "markdown",
   "metadata": {},
   "source": [
    "## KNN"
   ]
  },
  {
   "cell_type": "code",
   "execution_count": 22,
   "metadata": {},
   "outputs": [
    {
     "data": {
      "image/png": "[encoded data removed]",
      "text/plain": [
       "<Figure size 432x288 with 1 Axes>"
      ]
     },
     "metadata": {
      "needs_background": "light"
     },
     "output_type": "display_data"
    }
   ],
   "source": [
    "neighbors = np.arange(1, 3)\n",
    "mae = np.empty(len(neighbors))\n",
    "mse = np.empty(len(neighbors))\n",
    "rmse = np.empty(len(neighbors))\n",
    "\n",
    "for i, k in enumerate(neighbors):\n",
    "    kn = KNeighborsRegressor(n_neighbors=k)\n",
    "    kn.fit(X_train, y_train)\n",
    "    y_pred = kn.predict(X_test)\n",
    "    mae[i] = metrics.mean_absolute_error(y_test, y_pred)\n",
    "    mse[i] = metrics.mean_squared_error(y_test, y_pred)\n",
    "    rmse[i] = metrics.mean_squared_error(y_test, y_pred)\n",
    "\n",
    "# gerando o grafico\n",
    "plt.title('Modelo KNN')\n",
    "plt.plot(neighbors, mae, label = 'MAE')\n",
    "plt.plot(neighbors, mse, label = 'MSE')\n",
    "plt.plot(neighbors, rmse, label = 'RMSE')\n",
    "plt.legend()\n",
    "plt.xlabel('Número de vizinhos')\n",
    "plt.ylabel('metricas')\n",
    "plt.show()"
   ]
  },
  {
   "cell_type": "code",
   "execution_count": 23,
   "metadata": {},
   "outputs": [
    {
     "name": "stdout",
     "output_type": "stream",
     "text": [
      "MAE: 21654.139999999956\n",
      "MSE: 468901779.1395981\n",
      "RMSE: 21654.139999999956\n"
     ]
    }
   ],
   "source": [
    "kn = KNeighborsRegressor(n_neighbors=1)\n",
    "kn.fit(X_train, y_train)\n",
    "y_pred = kn.predict(X_test)\n",
    "\n",
    "mae = metrics.mean_absolute_error(y_test, y_pred)\n",
    "mse = metrics.mean_squared_error(y_test, y_pred)\n",
    "rmse = np.sqrt(metrics.mean_squared_error(y_test, y_pred))\n",
    "print('MAE:', mae)  \n",
    "print('MSE:', mse)  \n",
    "print('RMSE:', rmse)\n",
    "\n",
    "modelo.append(\"KNN\")\n",
    "Vetmae.append(mae)\n",
    "Vetmse.append(mse)\n",
    "Vetrmse.append(rmse)"
   ]
  },
  {
   "cell_type": "code",
   "execution_count": null,
   "metadata": {},
   "outputs": [],
   "source": [
    "y_test"
   ]
  },
  {
   "cell_type": "code",
   "execution_count": null,
   "metadata": {},
   "outputs": [],
   "source": [
    "y_pred"
   ]
  },
  {
   "cell_type": "markdown",
   "metadata": {},
   "source": [
    "### BayesianRidge"
   ]
  },
  {
   "cell_type": "code",
   "execution_count": 24,
   "metadata": {},
   "outputs": [
    {
     "name": "stdout",
     "output_type": "stream",
     "text": [
      "MAE: 85173.66498595843\n",
      "MSE: 7254553207.140281\n",
      "RMSE: 85173.66498595843\n"
     ]
    }
   ],
   "source": [
    "reg = linear_model.BayesianRidge()\n",
    "reg.fit(X_train, y_train)\n",
    "y_pred = reg.predict(X_test)\n",
    "\n",
    "mae = metrics.mean_absolute_error(y_test, y_pred)\n",
    "mse = metrics.mean_squared_error(y_test, y_pred)\n",
    "rmse = np.sqrt(metrics.mean_squared_error(y_test, y_pred))\n",
    "print('MAE:', mae)  \n",
    "print('MSE:', mse)  \n",
    "print('RMSE:', rmse)\n",
    "\n",
    "modelo.append(\"Bayesian\")\n",
    "Vetmae.append(mae)\n",
    "Vetmse.append(mse)\n",
    "Vetrmse.append(rmse)"
   ]
  },
  {
   "cell_type": "markdown",
   "metadata": {},
   "source": [
    "### LinearRegression"
   ]
  },
  {
   "cell_type": "code",
   "execution_count": 25,
   "metadata": {},
   "outputs": [
    {
     "name": "stdout",
     "output_type": "stream",
     "text": [
      "MAE: 235309.75000000012\n",
      "MSE: 55370678445.06255\n",
      "RMSE: 235309.75000000012\n"
     ]
    }
   ],
   "source": [
    "model = LinearRegression()\n",
    "model.fit(X_train, y_train)\n",
    "y_pred = model.predict(X_test)\n",
    "\n",
    "mae = metrics.mean_absolute_error(y_test, y_pred)\n",
    "mse = metrics.mean_squared_error(y_test, y_pred)\n",
    "rmse = np.sqrt(metrics.mean_squared_error(y_test, y_pred))\n",
    "print('MAE:', mae)  \n",
    "print('MSE:', mse)  \n",
    "print('RMSE:', rmse)\n",
    "\n",
    "modelo.append(\"Linear Regression\")\n",
    "Vetmae.append(mae)\n",
    "Vetmse.append(mse)\n",
    "Vetrmse.append(rmse)"
   ]
  },
  {
   "cell_type": "code",
   "execution_count": 26,
   "metadata": {},
   "outputs": [
    {
     "data": {
      "text/plain": [
       "2    275052.14\n",
       "Name: totalPorMes, dtype: float64"
      ]
     },
     "execution_count": 26,
     "metadata": {},
     "output_type": "execute_result"
    }
   ],
   "source": [
    "y_test"
   ]
  },
  {
   "cell_type": "code",
   "execution_count": 27,
   "metadata": {},
   "outputs": [
    {
     "data": {
      "text/plain": [
       "array([510361.89])"
      ]
     },
     "execution_count": 27,
     "metadata": {},
     "output_type": "execute_result"
    }
   ],
   "source": [
    "y_pred"
   ]
  },
  {
   "cell_type": "code",
   "execution_count": 28,
   "metadata": {},
   "outputs": [
    {
     "data": {
      "text/plain": [
       "['RandomForest', 'KNN', 'Bayesian', 'Linear Regression']"
      ]
     },
     "execution_count": 28,
     "metadata": {},
     "output_type": "execute_result"
    }
   ],
   "source": [
    "modelo"
   ]
  },
  {
   "cell_type": "code",
   "execution_count": 29,
   "metadata": {},
   "outputs": [
    {
     "data": {
      "image/png": "[encoded data removed]",
      "text/plain": [
       "<Figure size 504x504 with 1 Axes>"
      ]
     },
     "metadata": {
      "needs_background": "light"
     },
     "output_type": "display_data"
    }
   ],
   "source": [
    "modelos = np.arange(1, len(modelo)+1)\n",
    "\n",
    "plt.figure(figsize=[7,7])\n",
    "plt.title('Avaliacao dos modelos')\n",
    "plt.plot(modelos, Vetmae, '^', label = 'MAE')\n",
    "plt.plot(modelos, Vetmse, ':.', label = 'MSE')\n",
    "plt.plot(modelos, Vetrmse,':', label = 'RMSE')\n",
    "plt.legend(loc='right')\n",
    "plt.xlabel('Modelos')\n",
    "plt.ylabel('Metricas')\n",
    "plt.show()"
   ]
  }
 ],
 "metadata": {
  "kernelspec": {
   "display_name": "Python 3",
   "language": "python",
   "name": "python3"
  },
  "language_info": {
   "codemirror_mode": {
    "name": "ipython",
    "version": 3
   },
   "file_extension": ".py",
   "mimetype": "text/x-python",
   "name": "python",
   "nbconvert_exporter": "python",
   "pygments_lexer": "ipython3",
   "version": "3.7.4"
  }
 },
 "nbformat": 4,
 "nbformat_minor": 4
}
